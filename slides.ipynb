{
 "cells": [
  {
   "cell_type": "markdown",
   "id": "f7954254-359e-42f2-a3b4-7b024cf4149d",
   "metadata": {
    "editable": true,
    "slideshow": {
     "slide_type": "slide"
    },
    "tags": []
   },
   "source": [
    "# Improving Developer Satisfaction through focusing on problems that provably matter\n",
    "\n",
    "---\n",
    "\n",
    "- Stanislaw Swierc (stansw)\n",
    "- Mateusz Machalica (stupaq)\n",
    "- Scott Yost (scyost)\n",
    "\n",
    "\\* @meta.com\n",
    "\n",
    "https://github.com/StanislawSwierc/CCIW2025-Improving-Developer-Satisfaction\n",
    "\n",
    "<img src=\"media/logo.jpeg\" style=\"float:right;\">"
   ]
  },
  {
   "cell_type": "markdown",
   "id": "69a532a9-8a54-4880-a2ee-ed971e7437c8",
   "metadata": {
    "editable": true,
    "slideshow": {
     "slide_type": "subslide"
    },
    "tags": []
   },
   "source": [
    "# Disclaimer\n",
    "\n",
    "> The sample code in this presentation is for demonstration purposes only and does not reflect or represent any actual code, systems, or data used by Meta Platforms, Inc."
   ]
  },
  {
   "cell_type": "markdown",
   "id": "83eeda85-6364-4ed6-9ab0-c9de33655a11",
   "metadata": {
    "editable": true,
    "slideshow": {
     "slide_type": "notes"
    },
    "tags": []
   },
   "source": [
    "Notes:  \n",
    "*To make the presentation more approachable I will avoid Meta specific jargon, but in case I use a term which is unclear, please let me know.*"
   ]
  },
  {
   "cell_type": "markdown",
   "id": "1c43c99d-0851-4e12-8ee1-129588533144",
   "metadata": {
    "editable": true,
    "slideshow": {
     "slide_type": "slide"
    },
    "tags": []
   },
   "source": [
    "# Spark of Curiosity\n",
    "> Why don't the Developer Experience Survey results reflect the improvements in CI?"
   ]
  },
  {
   "cell_type": "markdown",
   "id": "113e4d5f-7a7d-4c31-9ffb-646262bd6ece",
   "metadata": {
    "editable": true,
    "slideshow": {
     "slide_type": "fragment"
    },
    "tags": []
   },
   "source": [
    "Possible explanations:\n",
    "- Developer Experience Survey \n",
    "  - Questions are not clear enough\n",
    "- Improvements \n",
    "  - Improvements do not address the key pain points\n",
    "- Other\n",
    "  - Moving target due to evergrowing codebase\n",
    "  - Hedonic adaptation\n"
   ]
  },
  {
   "cell_type": "markdown",
   "id": "610be5f7-d7bd-4b39-857d-5a1551687298",
   "metadata": {
    "editable": true,
    "slideshow": {
     "slide_type": "slide"
    },
    "tags": []
   },
   "source": [
    "# Developer Experience Survey\n",
    "\n",
    "The Developer Experience Survey is a bi-annual survey conducted at Meta to gather feedback from developers about their experiences with the tools and processes they use in their daily work. The primary goal of the survey is to assess the perceived quality of the tools, identify areas of improvement and compare experiences across all the product groups.\n",
    "\n",
    "\n",
    "![](media/survey_cycle_1.png)\n"
   ]
  },
  {
   "cell_type": "markdown",
   "id": "c2317b00-dcca-4c45-8606-2547076bcd80",
   "metadata": {
    "editable": true,
    "slideshow": {
     "slide_type": "subslide"
    },
    "tags": []
   },
   "source": [
    "# Developer Experience Survey\n",
    "Frequency of development cycles greatly exceeds the frequency of Developer Experience Survey feedback loop.\n",
    "\n",
    "![](media/survey_cycle_2.png)"
   ]
  },
  {
   "cell_type": "markdown",
   "id": "4b356e77-a636-4c3c-83df-ef3a8d31e3c9",
   "metadata": {
    "editable": true,
    "slideshow": {
     "slide_type": "subslide"
    },
    "tags": []
   },
   "source": [
    "# Developer Experience Survey\n",
    "By testing for correlation we can find metrics which partially explain variations in developer productivity and sentiment.\n",
    "\n",
    "> **We analyzed the correlation between Time In Review and user satisfaction (as measured by a company-wide survey).** The results were clear: The longer someone’s slowest 25 percent of diffs take to review, the less satisfied they were by their code review process. We now had our north star metric: P75 Time In Review.\n",
    "\n",
    "Correlations can help us identify **Trustworthy** metrics which are demonstrably aligned with the key product goal.\n",
    "\n",
    "- [Riggs, Patrick, Louise Huang, Seth Rogers, and James Saindon. \"Move faster, wait less: Improving code review time at Meta.\" Engineering at Meta. 2022.](https://engineering.fb.com/2022/11/16/culture/meta-code-review-time-improving/)\n",
    "\n"
   ]
  },
  {
   "cell_type": "markdown",
   "id": "c316d3c7-f547-41da-92e8-8331bbd191d1",
   "metadata": {
    "editable": true,
    "slideshow": {
     "slide_type": "notes"
    },
    "tags": []
   },
   "source": [
    "*The blueprint for how to link metrics with Developer Experience Survey results was shared by Patrick Riggs in Engineering at Meta blog post titled \"Improving code review time at Meta.\" There, he casually stated...*"
   ]
  },
  {
   "cell_type": "markdown",
   "id": "42d1f1b2-e236-4e46-b5a4-d21994a41487",
   "metadata": {
    "editable": true,
    "slideshow": {
     "slide_type": "slide"
    },
    "tags": []
   },
   "source": [
    "# Metrics: STEDII Framework\n",
    "\n",
    "The STEDII framework outlines six essential properties that define a good metric for online controlled experiments: Sensitivity, Trustworthiness, Efficiency, Debuggability, Interpretability, and Inclusivity. \n",
    "\n",
    "\n",
    "1. **Sensitive** metric can detect real changes or effects when they occur.\n",
    "2. **Trustworthy** metrics provide accurate measurements aligned with the product goals.\n",
    "3. **Efficient** metric is cost-effective in terms of data collection, processing, and analysis.\n",
    "4. **Debuggable**  metric makes it easy to answer why the metric moved in either direction.\n",
    "5. **Interpretable** metric is straightforward to understand and communicate.\n",
    "6. **Inclusive and Fair** metric provides unbiased measurement. \n",
    "\n",
    "[Gupta, Somit, and Widad Machmouchi. \"STEDII Properties of a Good Metric.\" Microsoft Experimentation Platform. 2022.](https://www.microsoft.com/en-us/research/articles/stedii-properties-of-a-good-metric/)"
   ]
  },
  {
   "cell_type": "markdown",
   "id": "c146305a-4c5e-45f1-bc74-47f30bb4544e",
   "metadata": {
    "editable": true,
    "slideshow": {
     "slide_type": "notes"
    },
    "tags": []
   },
   "source": [
    "Debuggabiilty is not somethign you would analyze in isolation. It is a product of the metric and supporting tools.\n",
    "\n",
    "Examples:\n",
    "- Debuggability - Imagine that an experiment shows that test group has higher resoruce consumption. With debuggable metric we can identify a set of tests which became more expensive to run.\n"
   ]
  },
  {
   "cell_type": "markdown",
   "id": "56a94937-c431-4518-bbd3-92df79fdd483",
   "metadata": {
    "editable": true,
    "slideshow": {
     "slide_type": "subslide"
    },
    "tags": []
   },
   "source": [
    "# Metrics: Developer Experience Survey\n",
    "Survey results can be formed into metrics.\n",
    "\n",
    "![](media/survey_results_metric.png)"
   ]
  },
  {
   "cell_type": "markdown",
   "id": "f7bdebee-3627-4f00-9ef0-b6fdd3559388",
   "metadata": {
    "editable": true,
    "slideshow": {
     "slide_type": "subslide"
    },
    "tags": []
   },
   "source": [
    "# Metrics: Excess Merge Attempts\n",
    "The number of failed merge attempts for Code Reviews that ultimately closed.\n",
    "\n",
    "![](media/excess_merge_attempts_1.png)"
   ]
  },
  {
   "cell_type": "markdown",
   "id": "5337e61b-4b07-46da-9074-405493cabae3",
   "metadata": {
    "editable": true,
    "slideshow": {
     "slide_type": "subslide"
    },
    "tags": []
   },
   "source": [
    "# Metrics: Excess Merge Attempts\n",
    "The number of failed merge attempts for Code Reviews that ultimately closed.\n",
    "\n",
    "![](media/excess_merge_attempts_2.png)"
   ]
  },
  {
   "cell_type": "markdown",
   "id": "41da725c-c67b-4b3c-818b-6b0581178cb4",
   "metadata": {
    "editable": true,
    "slideshow": {
     "slide_type": "subslide"
    },
    "tags": []
   },
   "source": [
    "# Metrics: Number of Unreliable Code Review Iterations\n",
    "\n",
    "The number of code review iterations which were incorrectly blocked by a failed signal (e.g. flaky test), which subsequently recovered upon retry or trivial rebase.\n",
    "\n",
    "![](media/unreliable_code_review_iterations_1.png)"
   ]
  },
  {
   "cell_type": "markdown",
   "id": "9f6df378-21e5-4c1d-a32b-cc41274c4581",
   "metadata": {
    "editable": true,
    "slideshow": {
     "slide_type": "subslide"
    },
    "tags": []
   },
   "source": [
    "# Metrics: Number of Unreliable Code Review Iterations\n",
    "\n",
    "The number of code review iterations which were incorrectly blocked by a failed signal (e.g. flaky test), which subsequently recovered upon retry or trivial rebase.\n",
    "\n",
    "![](media/unreliable_code_review_iterations_2.png)"
   ]
  },
  {
   "cell_type": "markdown",
   "id": "b40775a9-715b-4f35-910a-594a15c00046",
   "metadata": {
    "editable": true,
    "slideshow": {
     "slide_type": "subslide"
    },
    "tags": []
   },
   "source": [
    "# Metrics: Summary\n",
    "\n",
    "\n",
    "![](media/metric_summary.png)"
   ]
  },
  {
   "cell_type": "markdown",
   "id": "b7c99c8d-818e-4a38-8534-60337a03b02e",
   "metadata": {
    "editable": true,
    "slideshow": {
     "slide_type": "slide"
    },
    "tags": []
   },
   "source": [
    "# Blame Models: Schema\n",
    "Sample Code Review Schema"
   ]
  },
  {
   "cell_type": "code",
   "execution_count": 1,
   "id": "00125c40-5dab-42c4-9c9e-6d99f9447082",
   "metadata": {
    "editable": true,
    "slideshow": {
     "slide_type": "skip"
    },
    "tags": []
   },
   "outputs": [],
   "source": [
    "import duckdb\n",
    "import numpy as np\n",
    "import pandas as pd\n",
    "\n",
    "db = duckdb.connect(database=':memory:')\n",
    "\n",
    "%load_ext sql\n",
    "%sql db --alias duckdb"
   ]
  },
  {
   "cell_type": "code",
   "execution_count": 2,
   "id": "32c6fd13-1b5c-42f9-88e1-14609d5c2576",
   "metadata": {
    "editable": true,
    "slideshow": {
     "slide_type": ""
    },
    "tags": []
   },
   "outputs": [
    {
     "data": {
      "text/html": [
       "<span style=\"None\">Running query in &#x27;duckdb&#x27;</span>"
      ],
      "text/plain": [
       "Running query in 'duckdb'"
      ]
     },
     "metadata": {},
     "output_type": "display_data"
    },
    {
     "data": {
      "text/html": [
       "<table>\n",
       "    <thead>\n",
       "        <tr>\n",
       "            <th>Success</th>\n",
       "        </tr>\n",
       "    </thead>\n",
       "    <tbody>\n",
       "    </tbody>\n",
       "</table>"
      ],
      "text/plain": [
       "+---------+\n",
       "| Success |\n",
       "+---------+\n",
       "+---------+"
      ]
     },
     "execution_count": 2,
     "metadata": {},
     "output_type": "execute_result"
    }
   ],
   "source": [
    "%%sql\n",
    "\n",
    "CREATE TABLE code_review (\n",
    "    code_review_id INTEGER NOT NULL,\n",
    "    title VARCHAR NOT NULL,\n",
    "    status VARCHAR NOT NULL\n",
    ");\n",
    "    \n",
    "CREATE TABLE code_review_iterations (\n",
    "    code_review_iteration_id INTEGER NOT NULL,\n",
    "    status VARCHAR NOT NULL,\n",
    "\n",
    "    code_review_id INTEGER NOT NULL\n",
    ");\n",
    "\n",
    "SELECT NULL AS Success WHERE FALSE;"
   ]
  },
  {
   "cell_type": "markdown",
   "id": "8693ff03-51cc-4e08-bccd-5a4624eb4860",
   "metadata": {
    "editable": true,
    "slideshow": {
     "slide_type": "subslide"
    },
    "tags": []
   },
   "source": [
    "# Blame Models: Schema\n",
    "Sample Test Schema"
   ]
  },
  {
   "cell_type": "code",
   "execution_count": 3,
   "id": "bda0180e-f18b-4ccc-ac3f-5b1dcdd687c9",
   "metadata": {
    "editable": true,
    "slideshow": {
     "slide_type": ""
    },
    "tags": []
   },
   "outputs": [
    {
     "data": {
      "text/html": [
       "<span style=\"None\">Running query in &#x27;duckdb&#x27;</span>"
      ],
      "text/plain": [
       "Running query in 'duckdb'"
      ]
     },
     "metadata": {},
     "output_type": "display_data"
    },
    {
     "data": {
      "text/html": [
       "<table>\n",
       "    <thead>\n",
       "        <tr>\n",
       "            <th>Success</th>\n",
       "        </tr>\n",
       "    </thead>\n",
       "    <tbody>\n",
       "    </tbody>\n",
       "</table>"
      ],
      "text/plain": [
       "+---------+\n",
       "| Success |\n",
       "+---------+\n",
       "+---------+"
      ]
     },
     "execution_count": 3,
     "metadata": {},
     "output_type": "execute_result"
    }
   ],
   "source": [
    "%%sql\n",
    "\n",
    "CREATE TABLE tests (\n",
    "    test_id INTEGER NOT NULL,\n",
    "    test_name VARCHAR,\n",
    ");\n",
    "\n",
    "CREATE TABLE test_results (\n",
    "    test_result_id BIGINT NOT NULL,\n",
    "    status VARCHAR NOT NULL,\n",
    "    framework VARCHAR,\n",
    "\n",
    "    test_id INTEGER NOT NULL,\n",
    "    code_review_iteration_id INTEGER\n",
    ");\n",
    "\n",
    "SELECT NULL AS Success WHERE FALSE;"
   ]
  },
  {
   "cell_type": "markdown",
   "id": "fef7bd97-225a-44f9-99fd-518d4b29ba5d",
   "metadata": {
    "editable": true,
    "slideshow": {
     "slide_type": "subslide"
    },
    "tags": []
   },
   "source": [
    "# Blame Models: Schema\n",
    "Blame columns"
   ]
  },
  {
   "cell_type": "code",
   "execution_count": 4,
   "id": "6edf1016-761c-4a7b-a82f-f1c1eda1221d",
   "metadata": {
    "editable": true,
    "slideshow": {
     "slide_type": ""
    },
    "tags": []
   },
   "outputs": [
    {
     "data": {
      "text/html": [
       "<span style=\"None\">Running query in &#x27;duckdb&#x27;</span>"
      ],
      "text/plain": [
       "Running query in 'duckdb'"
      ]
     },
     "metadata": {},
     "output_type": "display_data"
    },
    {
     "data": {
      "text/html": [
       "<table>\n",
       "    <thead>\n",
       "        <tr>\n",
       "            <th>Success</th>\n",
       "        </tr>\n",
       "    </thead>\n",
       "    <tbody>\n",
       "    </tbody>\n",
       "</table>"
      ],
      "text/plain": [
       "+---------+\n",
       "| Success |\n",
       "+---------+\n",
       "+---------+"
      ]
     },
     "execution_count": 4,
     "metadata": {},
     "output_type": "execute_result"
    }
   ],
   "source": [
    "%%sql\n",
    "\n",
    "ALTER TABLE test_results\n",
    "ADD COLUMN blamed_for_unreliable_code_review_iteration BIGINT;\n",
    "\n",
    "ALTER TABLE test_results\n",
    "ADD COLUMN blamed_for_excess_merge_attempts BIGINT[]; -- Array!"
   ]
  },
  {
   "cell_type": "markdown",
   "id": "93c673fe-6f31-48b8-96f5-907733a17bf4",
   "metadata": {
    "editable": true,
    "slideshow": {
     "slide_type": "subslide"
    },
    "tags": []
   },
   "source": [
    "# Blame Models: Sample Data"
   ]
  },
  {
   "cell_type": "code",
   "execution_count": 5,
   "id": "df0f3cde-8ca3-4c8f-98e5-83e9a6300abd",
   "metadata": {
    "editable": true,
    "slideshow": {
     "slide_type": ""
    },
    "tags": []
   },
   "outputs": [
    {
     "data": {
      "text/plain": [
       "<duckdb.duckdb.DuckDBPyConnection at 0x1077a74b0>"
      ]
     },
     "execution_count": 5,
     "metadata": {},
     "output_type": "execute_result"
    }
   ],
   "source": [
    "n = 100\n",
    "np.random.seed(40)\n",
    "\n",
    "test_results = pd.DataFrame({\n",
    "    'test_result_id': np.arange(1, n + 1),\n",
    "    'status': np.random.choice(['passed', 'failed', 'skipped'], n),\n",
    "    'framework': np.random.choice(['JUnit', 'Pytest', 'Jest'], n),\n",
    "    'test_id': np.random.randint(1, 50, n),\n",
    "    'code_review_iteration_id': np.random.choice([None, *range(1, 10)], n),\n",
    "    'blamed_for_unreliable_code_review_iteration': np.random.choice([None] * 5 + list(range(1, 10)), n),\n",
    "    'blamed_for_excess_merge_attempts': np.random.choice(np.array([None, [1], [1, 2], [2, 3]], dtype=object), n)\n",
    "})\n",
    "db.append('test_results', test_results)"
   ]
  },
  {
   "cell_type": "code",
   "execution_count": 6,
   "id": "57162531-f8d7-4bcc-b354-6c52d9d49b3a",
   "metadata": {
    "editable": true,
    "slideshow": {
     "slide_type": "skip"
    },
    "tags": []
   },
   "outputs": [
    {
     "data": {
      "text/plain": [
       "<duckdb.duckdb.DuckDBPyConnection at 0x1077a74b0>"
      ]
     },
     "execution_count": 6,
     "metadata": {},
     "output_type": "execute_result"
    }
   ],
   "source": [
    "test_results = pd.DataFrame({\n",
    "    'test_result_id': np.arange(1, n + 1),\n",
    "    'status': np.random.choice(['passed', 'failed', 'skipped'], n),\n",
    "    'framework': np.random.choice(['JUnit', 'Pytest', 'Jest'], n),\n",
    "    'test_id': np.random.randint(1, 50, n),\n",
    "    'code_review_iteration_id': np.random.choice([None, *range(1, 10)], n),\n",
    "    'blamed_for_unreliable_code_review_iteration': np.random.choice(list(range(1, n * 10)), n),\n",
    "    'blamed_for_excess_merge_attempts': np.random.choice(np.array([None, [1], [1, 2], [2, 3]], dtype=object), n)\n",
    "})\n",
    "db.append('test_results', test_results)"
   ]
  },
  {
   "cell_type": "code",
   "execution_count": 7,
   "id": "77246f74-b811-4b29-a81e-0eb68395dd81",
   "metadata": {
    "editable": true,
    "slideshow": {
     "slide_type": ""
    },
    "tags": []
   },
   "outputs": [
    {
     "data": {
      "text/html": [
       "<span style=\"None\">Running query in &#x27;duckdb&#x27;</span>"
      ],
      "text/plain": [
       "Running query in 'duckdb'"
      ]
     },
     "metadata": {},
     "output_type": "display_data"
    },
    {
     "data": {
      "text/html": [
       "<table>\n",
       "    <thead>\n",
       "        <tr>\n",
       "            <th>test_result_id</th>\n",
       "            <th>status</th>\n",
       "            <th>framework</th>\n",
       "            <th>test_id</th>\n",
       "            <th>code_review_iteration_id</th>\n",
       "            <th>blamed_for_unreliable_code_review_iteration</th>\n",
       "            <th>blamed_for_excess_merge_attempts</th>\n",
       "        </tr>\n",
       "    </thead>\n",
       "    <tbody>\n",
       "        <tr>\n",
       "            <td>1</td>\n",
       "            <td>skipped</td>\n",
       "            <td>Pytest</td>\n",
       "            <td>7</td>\n",
       "            <td>1</td>\n",
       "            <td>7</td>\n",
       "            <td>[1, 2]</td>\n",
       "        </tr>\n",
       "        <tr>\n",
       "            <td>2</td>\n",
       "            <td>failed</td>\n",
       "            <td>Jest</td>\n",
       "            <td>48</td>\n",
       "            <td>None</td>\n",
       "            <td>None</td>\n",
       "            <td>None</td>\n",
       "        </tr>\n",
       "        <tr>\n",
       "            <td>3</td>\n",
       "            <td>passed</td>\n",
       "            <td>Pytest</td>\n",
       "            <td>29</td>\n",
       "            <td>None</td>\n",
       "            <td>None</td>\n",
       "            <td>None</td>\n",
       "        </tr>\n",
       "        <tr>\n",
       "            <td>4</td>\n",
       "            <td>passed</td>\n",
       "            <td>JUnit</td>\n",
       "            <td>42</td>\n",
       "            <td>8</td>\n",
       "            <td>8</td>\n",
       "            <td>[1]</td>\n",
       "        </tr>\n",
       "        <tr>\n",
       "            <td>5</td>\n",
       "            <td>skipped</td>\n",
       "            <td>Pytest</td>\n",
       "            <td>7</td>\n",
       "            <td>None</td>\n",
       "            <td>5</td>\n",
       "            <td>[1]</td>\n",
       "        </tr>\n",
       "    </tbody>\n",
       "</table>"
      ],
      "text/plain": [
       "+----------------+---------+-----------+---------+--------------------------+---------------------------------------------+----------------------------------+\n",
       "| test_result_id |  status | framework | test_id | code_review_iteration_id | blamed_for_unreliable_code_review_iteration | blamed_for_excess_merge_attempts |\n",
       "+----------------+---------+-----------+---------+--------------------------+---------------------------------------------+----------------------------------+\n",
       "|       1        | skipped |   Pytest  |    7    |            1             |                      7                      |              [1, 2]              |\n",
       "|       2        |  failed |    Jest   |    48   |           None           |                     None                    |               None               |\n",
       "|       3        |  passed |   Pytest  |    29   |           None           |                     None                    |               None               |\n",
       "|       4        |  passed |   JUnit   |    42   |            8             |                      8                      |               [1]                |\n",
       "|       5        | skipped |   Pytest  |    7    |           None           |                      5                      |               [1]                |\n",
       "+----------------+---------+-----------+---------+--------------------------+---------------------------------------------+----------------------------------+"
      ]
     },
     "execution_count": 7,
     "metadata": {},
     "output_type": "execute_result"
    }
   ],
   "source": [
    "%%sql\n",
    "SELECT * FROM test_results LIMIT 5"
   ]
  },
  {
   "cell_type": "markdown",
   "id": "9f279526-daa7-4c91-a562-6efedbcb8e28",
   "metadata": {
    "editable": true,
    "slideshow": {
     "slide_type": "subslide"
    },
    "tags": []
   },
   "source": [
    "# Blame Models: Partial Blame Score\n",
    "Number of Unreliable Code Review Iterations where a particular test was to blame."
   ]
  },
  {
   "cell_type": "code",
   "execution_count": 8,
   "id": "2b3b5d92-fdf7-4f17-91a1-08815d34f53f",
   "metadata": {
    "editable": true,
    "slideshow": {
     "slide_type": ""
    },
    "tags": []
   },
   "outputs": [
    {
     "data": {
      "text/html": [
       "<span style=\"None\">Running query in &#x27;duckdb&#x27;</span>"
      ],
      "text/plain": [
       "Running query in 'duckdb'"
      ]
     },
     "metadata": {},
     "output_type": "display_data"
    },
    {
     "data": {
      "text/html": [
       "<table>\n",
       "    <thead>\n",
       "        <tr>\n",
       "            <th>test_id</th>\n",
       "            <th>partial_blame</th>\n",
       "        </tr>\n",
       "    </thead>\n",
       "    <tbody>\n",
       "        <tr>\n",
       "            <td>35</td>\n",
       "            <td>7</td>\n",
       "        </tr>\n",
       "        <tr>\n",
       "            <td>18</td>\n",
       "            <td>7</td>\n",
       "        </tr>\n",
       "        <tr>\n",
       "            <td>7</td>\n",
       "            <td>6</td>\n",
       "        </tr>\n",
       "        <tr>\n",
       "            <td>6</td>\n",
       "            <td>5</td>\n",
       "        </tr>\n",
       "        <tr>\n",
       "            <td>13</td>\n",
       "            <td>5</td>\n",
       "        </tr>\n",
       "    </tbody>\n",
       "</table>"
      ],
      "text/plain": [
       "+---------+---------------+\n",
       "| test_id | partial_blame |\n",
       "+---------+---------------+\n",
       "|    35   |       7       |\n",
       "|    18   |       7       |\n",
       "|    7    |       6       |\n",
       "|    6    |       5       |\n",
       "|    13   |       5       |\n",
       "+---------+---------------+"
      ]
     },
     "execution_count": 8,
     "metadata": {},
     "output_type": "execute_result"
    }
   ],
   "source": [
    "%%sql\n",
    "SELECT test_id,\n",
    "    COUNT(DISTINCT blamed_for_unreliable_code_review_iteration) as partial_blame\n",
    "FROM test_results \n",
    "GROUP BY 1\n",
    "ORDER BY 2 DESC\n",
    "LIMIT 5"
   ]
  },
  {
   "cell_type": "markdown",
   "id": "e47fee90-afa7-4569-91aa-0ac65311ef2f",
   "metadata": {
    "editable": true,
    "slideshow": {
     "slide_type": "subslide"
    },
    "tags": []
   },
   "source": [
    "# Blame Models: Partial Blame Score\n",
    "\n",
    "Number of Bad Interactions (e.g. Unreliable Code Review Iterations) where a particular test was to blame (e.g. unreliable)."
   ]
  },
  {
   "cell_type": "code",
   "execution_count": 9,
   "id": "623536b8-8f3a-461f-b2b2-f069e19c1ccc",
   "metadata": {},
   "outputs": [
    {
     "data": {
      "text/html": [
       "<span style=\"None\">Running query in &#x27;duckdb&#x27;</span>"
      ],
      "text/plain": [
       "Running query in 'duckdb'"
      ]
     },
     "metadata": {},
     "output_type": "display_data"
    },
    {
     "data": {
      "text/html": [
       "<span style=\"None\">Skipping execution...</span>"
      ],
      "text/plain": [
       "Skipping execution..."
      ]
     },
     "metadata": {},
     "output_type": "display_data"
    }
   ],
   "source": [
    "%%sql --save test_results_blamed_for_unreliable_code_review_iteration --no-execute\n",
    "SELECT *, blamed_for_unreliable_code_review_iteration as bad_interaction_id\n",
    "FROM test_results\n",
    "WHERE blamed_for_unreliable_code_review_iteration IS NOT NULL"
   ]
  },
  {
   "cell_type": "code",
   "execution_count": 10,
   "id": "40fb04bf-6aba-4e88-b29f-9224aec3efca",
   "metadata": {
    "editable": true,
    "slideshow": {
     "slide_type": ""
    },
    "tags": []
   },
   "outputs": [
    {
     "data": {
      "text/html": [
       "<span style=\"None\">Generating CTE with stored snippets: &#x27;test_results_blamed_for_unreliable_code_review_iteration&#x27;</span>"
      ],
      "text/plain": [
       "Generating CTE with stored snippets: 'test_results_blamed_for_unreliable_code_review_iteration'"
      ]
     },
     "metadata": {},
     "output_type": "display_data"
    },
    {
     "data": {
      "text/html": [
       "<span style=\"None\">Running query in &#x27;duckdb&#x27;</span>"
      ],
      "text/plain": [
       "Running query in 'duckdb'"
      ]
     },
     "metadata": {},
     "output_type": "display_data"
    },
    {
     "data": {
      "text/html": [
       "<table>\n",
       "    <thead>\n",
       "        <tr>\n",
       "            <th>test_id</th>\n",
       "            <th>partial_blame</th>\n",
       "        </tr>\n",
       "    </thead>\n",
       "    <tbody>\n",
       "        <tr>\n",
       "            <td>18</td>\n",
       "            <td>7</td>\n",
       "        </tr>\n",
       "        <tr>\n",
       "            <td>35</td>\n",
       "            <td>7</td>\n",
       "        </tr>\n",
       "        <tr>\n",
       "            <td>7</td>\n",
       "            <td>6</td>\n",
       "        </tr>\n",
       "        <tr>\n",
       "            <td>48</td>\n",
       "            <td>5</td>\n",
       "        </tr>\n",
       "        <tr>\n",
       "            <td>12</td>\n",
       "            <td>5</td>\n",
       "        </tr>\n",
       "    </tbody>\n",
       "</table>"
      ],
      "text/plain": [
       "+---------+---------------+\n",
       "| test_id | partial_blame |\n",
       "+---------+---------------+\n",
       "|    18   |       7       |\n",
       "|    35   |       7       |\n",
       "|    7    |       6       |\n",
       "|    48   |       5       |\n",
       "|    12   |       5       |\n",
       "+---------+---------------+"
      ]
     },
     "execution_count": 10,
     "metadata": {},
     "output_type": "execute_result"
    }
   ],
   "source": [
    "%%sql\n",
    "SELECT test_id,\n",
    "    COUNT(DISTINCT bad_interaction_id) as partial_blame\n",
    "FROM test_results_blamed_for_unreliable_code_review_iteration\n",
    "GROUP BY 1\n",
    "ORDER BY 2 DESC\n",
    "LIMIT 5"
   ]
  },
  {
   "cell_type": "markdown",
   "id": "da138126-a90a-4816-bc5b-faa9ae1b1b79",
   "metadata": {
    "editable": true,
    "slideshow": {
     "slide_type": "subslide"
    },
    "tags": []
   },
   "source": [
    "# Blame Models: Partial Blame Score\n",
    "Number of Excess Merge Attempts where a particular test was to blame."
   ]
  },
  {
   "cell_type": "code",
   "execution_count": 11,
   "id": "ddddaaf0-8cd1-449c-8649-59375e4b94d3",
   "metadata": {},
   "outputs": [
    {
     "data": {
      "text/html": [
       "<span style=\"None\">Running query in &#x27;duckdb&#x27;</span>"
      ],
      "text/plain": [
       "Running query in 'duckdb'"
      ]
     },
     "metadata": {},
     "output_type": "display_data"
    },
    {
     "data": {
      "text/html": [
       "<span style=\"None\">Skipping execution...</span>"
      ],
      "text/plain": [
       "Skipping execution..."
      ]
     },
     "metadata": {},
     "output_type": "display_data"
    }
   ],
   "source": [
    "%%sql --save test_results_blamed_for_excess_merge_attempts --no-execute\n",
    "SELECT * \n",
    "FROM test_results \n",
    "CROSS JOIN UNNEST(blamed_for_excess_merge_attempts) as t(bad_interaction_id)\n",
    "WHERE blamed_for_excess_merge_attempts IS NOT NULL"
   ]
  },
  {
   "cell_type": "code",
   "execution_count": 12,
   "id": "7aaf2d66-aab0-427c-86e1-8d567292f860",
   "metadata": {
    "editable": true,
    "slideshow": {
     "slide_type": ""
    },
    "tags": []
   },
   "outputs": [
    {
     "data": {
      "text/html": [
       "<span style=\"None\">Generating CTE with stored snippets: &#x27;test_results_blamed_for_excess_merge_attempts&#x27;</span>"
      ],
      "text/plain": [
       "Generating CTE with stored snippets: 'test_results_blamed_for_excess_merge_attempts'"
      ]
     },
     "metadata": {},
     "output_type": "display_data"
    },
    {
     "data": {
      "text/html": [
       "<span style=\"None\">Running query in &#x27;duckdb&#x27;</span>"
      ],
      "text/plain": [
       "Running query in 'duckdb'"
      ]
     },
     "metadata": {},
     "output_type": "display_data"
    },
    {
     "data": {
      "text/html": [
       "<table>\n",
       "    <thead>\n",
       "        <tr>\n",
       "            <th>test_id</th>\n",
       "            <th>partial_blame</th>\n",
       "        </tr>\n",
       "    </thead>\n",
       "    <tbody>\n",
       "        <tr>\n",
       "            <td>34</td>\n",
       "            <td>3</td>\n",
       "        </tr>\n",
       "        <tr>\n",
       "            <td>2</td>\n",
       "            <td>3</td>\n",
       "        </tr>\n",
       "        <tr>\n",
       "            <td>46</td>\n",
       "            <td>3</td>\n",
       "        </tr>\n",
       "        <tr>\n",
       "            <td>25</td>\n",
       "            <td>3</td>\n",
       "        </tr>\n",
       "        <tr>\n",
       "            <td>38</td>\n",
       "            <td>3</td>\n",
       "        </tr>\n",
       "    </tbody>\n",
       "</table>"
      ],
      "text/plain": [
       "+---------+---------------+\n",
       "| test_id | partial_blame |\n",
       "+---------+---------------+\n",
       "|    34   |       3       |\n",
       "|    2    |       3       |\n",
       "|    46   |       3       |\n",
       "|    25   |       3       |\n",
       "|    38   |       3       |\n",
       "+---------+---------------+"
      ]
     },
     "execution_count": 12,
     "metadata": {},
     "output_type": "execute_result"
    }
   ],
   "source": [
    "%%sql\n",
    "SELECT test_id,\n",
    "    COUNT(DISTINCT bad_interaction_id) as partial_blame\n",
    "FROM test_results_blamed_for_excess_merge_attempts\n",
    "GROUP BY 1\n",
    "ORDER BY 2 DESC\n",
    "LIMIT 5"
   ]
  },
  {
   "cell_type": "markdown",
   "id": "bcf331a3-80e4-403d-b3b8-74987b1874f3",
   "metadata": {
    "editable": true,
    "slideshow": {
     "slide_type": "subslide"
    },
    "tags": []
   },
   "source": [
    "# Blame Models: Uniform Blame Score\n",
    "When a test is blamed for a bad interaction, its score is calculated by taking the reciprocal of the total number of tests blamed for that interaction. When there are multiple test results, the score gets equally divided between them."
   ]
  },
  {
   "cell_type": "code",
   "execution_count": 13,
   "id": "4b30f663-5ee8-44c2-bf9c-734d1dabd2da",
   "metadata": {
    "editable": true,
    "slideshow": {
     "slide_type": "skip"
    },
    "tags": []
   },
   "outputs": [
    {
     "data": {
      "text/html": [
       "<span style=\"None\">Running query in &#x27;duckdb&#x27;</span>"
      ],
      "text/plain": [
       "Running query in 'duckdb'"
      ]
     },
     "metadata": {},
     "output_type": "display_data"
    },
    {
     "data": {
      "text/html": [
       "<table>\n",
       "    <thead>\n",
       "        <tr>\n",
       "            <th>Success</th>\n",
       "        </tr>\n",
       "    </thead>\n",
       "    <tbody>\n",
       "    </tbody>\n",
       "</table>"
      ],
      "text/plain": [
       "+---------+\n",
       "| Success |\n",
       "+---------+\n",
       "+---------+"
      ]
     },
     "execution_count": 13,
     "metadata": {},
     "output_type": "execute_result"
    }
   ],
   "source": [
    "%%sql\n",
    "DROP TABLE IF EXISTS unreliable_code_review_iterations"
   ]
  },
  {
   "cell_type": "code",
   "execution_count": 14,
   "id": "f1c75606-afd9-465d-9d90-cfd56e0771c9",
   "metadata": {
    "editable": true,
    "slideshow": {
     "slide_type": ""
    },
    "tags": []
   },
   "outputs": [
    {
     "data": {
      "text/html": [
       "<span style=\"None\">Running query in &#x27;duckdb&#x27;</span>"
      ],
      "text/plain": [
       "Running query in 'duckdb'"
      ]
     },
     "metadata": {},
     "output_type": "display_data"
    },
    {
     "data": {
      "text/html": [
       "<table>\n",
       "    <thead>\n",
       "        <tr>\n",
       "            <th>Success</th>\n",
       "        </tr>\n",
       "    </thead>\n",
       "    <tbody>\n",
       "    </tbody>\n",
       "</table>"
      ],
      "text/plain": [
       "+---------+\n",
       "| Success |\n",
       "+---------+\n",
       "+---------+"
      ]
     },
     "execution_count": 14,
     "metadata": {},
     "output_type": "execute_result"
    }
   ],
   "source": [
    "%%sql\n",
    "\n",
    "CREATE TABLE unreliable_code_review_iterations (\n",
    "    bad_interaction_id INTEGER,\n",
    "    test_result_count INTEGER,\n",
    "    test_id_count INTEGER,\n",
    "    test_id_frequency MAP(INTEGER, INTEGER)\n",
    ");\n",
    "\n",
    "SELECT NULL AS Success WHERE FALSE;"
   ]
  },
  {
   "cell_type": "markdown",
   "id": "13d36e93-63f3-4f88-93af-ee5decc073b7",
   "metadata": {
    "editable": true,
    "slideshow": {
     "slide_type": "subslide"
    },
    "tags": []
   },
   "source": [
    "# Blame Models: Uniform Blame Score\n",
    "When test is to blame for a bad interaction it receives score of inverse the number of all test blamed for that bad interaction."
   ]
  },
  {
   "cell_type": "code",
   "execution_count": 15,
   "id": "f5d1b745-df25-4b96-ae69-3e82fb29007f",
   "metadata": {
    "editable": true,
    "slideshow": {
     "slide_type": ""
    },
    "tags": []
   },
   "outputs": [
    {
     "data": {
      "text/html": [
       "<span style=\"None\">Running query in &#x27;duckdb&#x27;</span>"
      ],
      "text/plain": [
       "Running query in 'duckdb'"
      ]
     },
     "metadata": {},
     "output_type": "display_data"
    },
    {
     "data": {
      "text/html": [
       "<table>\n",
       "    <thead>\n",
       "        <tr>\n",
       "            <th>bad_interaction_id</th>\n",
       "            <th>test_result_count</th>\n",
       "            <th>test_id_count</th>\n",
       "            <th>test_id_frequency</th>\n",
       "        </tr>\n",
       "    </thead>\n",
       "    <tbody>\n",
       "        <tr>\n",
       "            <td>8</td>\n",
       "            <td>11</td>\n",
       "            <td>10</td>\n",
       "            <td>{5: 1, 21: 1, 22: 1, 25: 1, 30: 1, 31: 1, 35: 1, 41: 2, 42: 1, 48: 1}</td>\n",
       "        </tr>\n",
       "        <tr>\n",
       "            <td>5</td>\n",
       "            <td>11</td>\n",
       "            <td>11</td>\n",
       "            <td>{1: 1, 4: 1, 6: 1, 7: 1, 18: 1, 23: 1, 26: 1, 28: 1, 37: 1, 38: 1, 43: 1}</td>\n",
       "        </tr>\n",
       "        <tr>\n",
       "            <td>6</td>\n",
       "            <td>8</td>\n",
       "            <td>8</td>\n",
       "            <td>{3: 1, 15: 1, 20: 1, 23: 1, 24: 1, 36: 1, 40: 1, 42: 1}</td>\n",
       "        </tr>\n",
       "        <tr>\n",
       "            <td>1</td>\n",
       "            <td>7</td>\n",
       "            <td>6</td>\n",
       "            <td>{9: 1, 18: 2, 25: 1, 38: 1, 40: 1, 43: 1}</td>\n",
       "        </tr>\n",
       "        <tr>\n",
       "            <td>9</td>\n",
       "            <td>7</td>\n",
       "            <td>7</td>\n",
       "            <td>{1: 1, 17: 1, 18: 1, 23: 1, 27: 1, 38: 1, 40: 1}</td>\n",
       "        </tr>\n",
       "    </tbody>\n",
       "</table>"
      ],
      "text/plain": [
       "+--------------------+-------------------+---------------+---------------------------------------------------------------------------+\n",
       "| bad_interaction_id | test_result_count | test_id_count |                             test_id_frequency                             |\n",
       "+--------------------+-------------------+---------------+---------------------------------------------------------------------------+\n",
       "|         8          |         11        |       10      |   {5: 1, 21: 1, 22: 1, 25: 1, 30: 1, 31: 1, 35: 1, 41: 2, 42: 1, 48: 1}   |\n",
       "|         5          |         11        |       11      | {1: 1, 4: 1, 6: 1, 7: 1, 18: 1, 23: 1, 26: 1, 28: 1, 37: 1, 38: 1, 43: 1} |\n",
       "|         6          |         8         |       8       |          {3: 1, 15: 1, 20: 1, 23: 1, 24: 1, 36: 1, 40: 1, 42: 1}          |\n",
       "|         1          |         7         |       6       |                 {9: 1, 18: 2, 25: 1, 38: 1, 40: 1, 43: 1}                 |\n",
       "|         9          |         7         |       7       |              {1: 1, 17: 1, 18: 1, 23: 1, 27: 1, 38: 1, 40: 1}             |\n",
       "+--------------------+-------------------+---------------+---------------------------------------------------------------------------+"
      ]
     },
     "execution_count": 15,
     "metadata": {},
     "output_type": "execute_result"
    }
   ],
   "source": [
    "%%sql\n",
    "INSERT INTO unreliable_code_review_iterations\n",
    "SELECT\n",
    "    blamed_for_unreliable_code_review_iteration,\n",
    "    COUNT() AS test_result_count,\n",
    "    COUNT(DISTINCT test_id) test_id_count,\n",
    "    HISTOGRAM(test_id) as test_id_frequency\n",
    "FROM test_results\n",
    "WHERE blamed_for_unreliable_code_review_iteration IS NOT NULL\n",
    "GROUP BY 1;\n",
    "\n",
    "SELECT * FROM unreliable_code_review_iterations ORDER BY 2 DESC LIMIT 5"
   ]
  },
  {
   "cell_type": "code",
   "execution_count": 16,
   "id": "3dfa15ce-da8e-4fb7-899d-c23d467efd11",
   "metadata": {
    "editable": true,
    "slideshow": {
     "slide_type": "skip"
    },
    "tags": []
   },
   "outputs": [
    {
     "data": {
      "text/html": [
       "<span style=\"None\">Running query in &#x27;duckdb&#x27;</span>"
      ],
      "text/plain": [
       "Running query in 'duckdb'"
      ]
     },
     "metadata": {},
     "output_type": "display_data"
    },
    {
     "data": {
      "text/html": [
       "<table>\n",
       "    <thead>\n",
       "        <tr>\n",
       "            <th>bad_interaction_id</th>\n",
       "            <th>test_result_count</th>\n",
       "            <th>test_id_count</th>\n",
       "            <th>test_id_frequency</th>\n",
       "        </tr>\n",
       "    </thead>\n",
       "    <tbody>\n",
       "        <tr>\n",
       "            <td>8</td>\n",
       "            <td>11</td>\n",
       "            <td>10</td>\n",
       "            <td>{5: 1, 21: 1, 22: 1, 25: 1, 30: 1, 31: 1, 35: 1, 41: 2, 42: 1, 48: 1}</td>\n",
       "        </tr>\n",
       "        <tr>\n",
       "            <td>5</td>\n",
       "            <td>11</td>\n",
       "            <td>11</td>\n",
       "            <td>{1: 1, 4: 1, 6: 1, 7: 1, 18: 1, 23: 1, 26: 1, 28: 1, 37: 1, 38: 1, 43: 1}</td>\n",
       "        </tr>\n",
       "        <tr>\n",
       "            <td>6</td>\n",
       "            <td>8</td>\n",
       "            <td>8</td>\n",
       "            <td>{3: 1, 15: 1, 20: 1, 23: 1, 24: 1, 36: 1, 40: 1, 42: 1}</td>\n",
       "        </tr>\n",
       "        <tr>\n",
       "            <td>1</td>\n",
       "            <td>7</td>\n",
       "            <td>6</td>\n",
       "            <td>{9: 1, 18: 2, 25: 1, 38: 1, 40: 1, 43: 1}</td>\n",
       "        </tr>\n",
       "        <tr>\n",
       "            <td>9</td>\n",
       "            <td>7</td>\n",
       "            <td>7</td>\n",
       "            <td>{1: 1, 17: 1, 18: 1, 23: 1, 27: 1, 38: 1, 40: 1}</td>\n",
       "        </tr>\n",
       "    </tbody>\n",
       "</table>"
      ],
      "text/plain": [
       "+--------------------+-------------------+---------------+---------------------------------------------------------------------------+\n",
       "| bad_interaction_id | test_result_count | test_id_count |                             test_id_frequency                             |\n",
       "+--------------------+-------------------+---------------+---------------------------------------------------------------------------+\n",
       "|         8          |         11        |       10      |   {5: 1, 21: 1, 22: 1, 25: 1, 30: 1, 31: 1, 35: 1, 41: 2, 42: 1, 48: 1}   |\n",
       "|         5          |         11        |       11      | {1: 1, 4: 1, 6: 1, 7: 1, 18: 1, 23: 1, 26: 1, 28: 1, 37: 1, 38: 1, 43: 1} |\n",
       "|         6          |         8         |       8       |          {3: 1, 15: 1, 20: 1, 23: 1, 24: 1, 36: 1, 40: 1, 42: 1}          |\n",
       "|         1          |         7         |       6       |                 {9: 1, 18: 2, 25: 1, 38: 1, 40: 1, 43: 1}                 |\n",
       "|         9          |         7         |       7       |              {1: 1, 17: 1, 18: 1, 23: 1, 27: 1, 38: 1, 40: 1}             |\n",
       "+--------------------+-------------------+---------------+---------------------------------------------------------------------------+"
      ]
     },
     "execution_count": 16,
     "metadata": {},
     "output_type": "execute_result"
    }
   ],
   "source": [
    "%%sql\n",
    "SELECT * FROM unreliable_code_review_iterations ORDER BY 2 DESC LIMIT 5"
   ]
  },
  {
   "cell_type": "markdown",
   "id": "dbd32e5a-a891-4507-9222-9cf46495bc69",
   "metadata": {
    "editable": true,
    "slideshow": {
     "slide_type": "subslide"
    },
    "tags": []
   },
   "source": [
    "# Blame Models: Uniform Blame Score\n",
    "When test is to blame for a bad interaction it receives score of inverse the number of all test blamed for that bad interaction."
   ]
  },
  {
   "cell_type": "code",
   "execution_count": 17,
   "id": "2e565049-d852-4895-a26d-aebd1221d3a5",
   "metadata": {
    "editable": true,
    "slideshow": {
     "slide_type": ""
    },
    "tags": []
   },
   "outputs": [
    {
     "data": {
      "text/html": [
       "<span style=\"None\">Generating CTE with stored snippets: &#x27;test_results_blamed_for_unreliable_code_review_iteration&#x27;</span>"
      ],
      "text/plain": [
       "Generating CTE with stored snippets: 'test_results_blamed_for_unreliable_code_review_iteration'"
      ]
     },
     "metadata": {},
     "output_type": "display_data"
    },
    {
     "data": {
      "text/html": [
       "<span style=\"None\">Running query in &#x27;duckdb&#x27;</span>"
      ],
      "text/plain": [
       "Running query in 'duckdb'"
      ]
     },
     "metadata": {},
     "output_type": "display_data"
    },
    {
     "data": {
      "text/html": [
       "<table>\n",
       "    <thead>\n",
       "        <tr>\n",
       "            <th>test_id</th>\n",
       "            <th>uniform_blame</th>\n",
       "        </tr>\n",
       "    </thead>\n",
       "    <tbody>\n",
       "        <tr>\n",
       "            <td>35</td>\n",
       "            <td>5.6</td>\n",
       "        </tr>\n",
       "        <tr>\n",
       "            <td>33</td>\n",
       "            <td>5.0</td>\n",
       "        </tr>\n",
       "        <tr>\n",
       "            <td>13</td>\n",
       "            <td>4.5</td>\n",
       "        </tr>\n",
       "        <tr>\n",
       "            <td>12</td>\n",
       "            <td>4.2</td>\n",
       "        </tr>\n",
       "        <tr>\n",
       "            <td>48</td>\n",
       "            <td>4.1</td>\n",
       "        </tr>\n",
       "    </tbody>\n",
       "</table>"
      ],
      "text/plain": [
       "+---------+---------------+\n",
       "| test_id | uniform_blame |\n",
       "+---------+---------------+\n",
       "|    35   |      5.6      |\n",
       "|    33   |      5.0      |\n",
       "|    13   |      4.5      |\n",
       "|    12   |      4.2      |\n",
       "|    48   |      4.1      |\n",
       "+---------+---------------+"
      ]
     },
     "execution_count": 17,
     "metadata": {},
     "output_type": "execute_result"
    }
   ],
   "source": [
    "%%sql\n",
    "SELECT test_id,\n",
    "    SUM(1.0 / test_id_count / test_id_frequency[test_id]) as uniform_blame\n",
    "FROM test_results_blamed_for_unreliable_code_review_iteration\n",
    "JOIN unreliable_code_review_iterations USING(bad_interaction_id)\n",
    "GROUP BY 1\n",
    "ORDER BY 2 DESC\n",
    "LIMIT 5"
   ]
  },
  {
   "cell_type": "markdown",
   "id": "908a132b-3928-4427-84ec-d5f0dd68e2d6",
   "metadata": {
    "editable": true,
    "slideshow": {
     "slide_type": "subslide"
    },
    "tags": []
   },
   "source": [
    "# Blame Models: Full Blame Score\n",
    "\n",
    "When test is to blame for a bad interaction it receives score of 1.0 but only if no other tests were also blamed for that bad interaction."
   ]
  },
  {
   "cell_type": "code",
   "execution_count": 18,
   "id": "6891975d-de54-4323-9cc5-499590151d13",
   "metadata": {
    "editable": true,
    "slideshow": {
     "slide_type": ""
    },
    "tags": []
   },
   "outputs": [
    {
     "data": {
      "text/html": [
       "<span style=\"None\">Generating CTE with stored snippets: &#x27;test_results_blamed_for_unreliable_code_review_iteration&#x27;</span>"
      ],
      "text/plain": [
       "Generating CTE with stored snippets: 'test_results_blamed_for_unreliable_code_review_iteration'"
      ]
     },
     "metadata": {},
     "output_type": "display_data"
    },
    {
     "data": {
      "text/html": [
       "<span style=\"None\">Running query in &#x27;duckdb&#x27;</span>"
      ],
      "text/plain": [
       "Running query in 'duckdb'"
      ]
     },
     "metadata": {},
     "output_type": "display_data"
    },
    {
     "data": {
      "text/html": [
       "<table>\n",
       "    <thead>\n",
       "        <tr>\n",
       "            <th>test_id</th>\n",
       "            <th>full_blame</th>\n",
       "        </tr>\n",
       "    </thead>\n",
       "    <tbody>\n",
       "        <tr>\n",
       "            <td>35</td>\n",
       "            <td>5</td>\n",
       "        </tr>\n",
       "        <tr>\n",
       "            <td>33</td>\n",
       "            <td>5</td>\n",
       "        </tr>\n",
       "        <tr>\n",
       "            <td>13</td>\n",
       "            <td>4</td>\n",
       "        </tr>\n",
       "        <tr>\n",
       "            <td>12</td>\n",
       "            <td>4</td>\n",
       "        </tr>\n",
       "        <tr>\n",
       "            <td>6</td>\n",
       "            <td>4</td>\n",
       "        </tr>\n",
       "    </tbody>\n",
       "</table>"
      ],
      "text/plain": [
       "+---------+------------+\n",
       "| test_id | full_blame |\n",
       "+---------+------------+\n",
       "|    35   |     5      |\n",
       "|    33   |     5      |\n",
       "|    13   |     4      |\n",
       "|    12   |     4      |\n",
       "|    6    |     4      |\n",
       "+---------+------------+"
      ]
     },
     "execution_count": 18,
     "metadata": {},
     "output_type": "execute_result"
    }
   ],
   "source": [
    "%%sql\n",
    "SELECT test_id,\n",
    "    SUM(full_blame) AS full_blame\n",
    "FROM (   \n",
    "    SELECT test_id,\n",
    "        bad_interaction_id,\n",
    "        IF(COUNT() = ARBITRARY(test_result_count), 1, 0) full_blame,\n",
    "        ARBITRARY(test_result_count) all_count\n",
    "    FROM test_results_blamed_for_unreliable_code_review_iteration\n",
    "    JOIN unreliable_code_review_iterations USING(bad_interaction_id)\n",
    "    GROUP BY 1, 2\n",
    ")\n",
    "GROUP BY 1\n",
    "ORDER BY 2 DESC\n",
    "LIMIT 5"
   ]
  },
  {
   "cell_type": "markdown",
   "id": "47e8b188-960c-43f5-8e10-5b1caaa3c4f3",
   "metadata": {
    "editable": true,
    "slideshow": {
     "slide_type": "subslide"
    },
    "tags": []
   },
   "source": [
    "# Blame Models: All Scores\n",
    "We can efficiently calcualte and present all scores."
   ]
  },
  {
   "cell_type": "code",
   "execution_count": 19,
   "id": "47a7c098-6786-4c69-aa50-60fda7becef7",
   "metadata": {
    "editable": true,
    "slideshow": {
     "slide_type": ""
    },
    "tags": []
   },
   "outputs": [
    {
     "data": {
      "text/html": [
       "<span style=\"None\">Generating CTE with stored snippets: &#x27;test_results_blamed_for_unreliable_code_review_iteration&#x27;</span>"
      ],
      "text/plain": [
       "Generating CTE with stored snippets: 'test_results_blamed_for_unreliable_code_review_iteration'"
      ]
     },
     "metadata": {},
     "output_type": "display_data"
    },
    {
     "data": {
      "text/html": [
       "<span style=\"None\">Running query in &#x27;duckdb&#x27;</span>"
      ],
      "text/plain": [
       "Running query in 'duckdb'"
      ]
     },
     "metadata": {},
     "output_type": "display_data"
    },
    {
     "data": {
      "text/html": [
       "<table>\n",
       "    <thead>\n",
       "        <tr>\n",
       "            <th>test_id</th>\n",
       "            <th>full_blame</th>\n",
       "            <th>uniform_blame</th>\n",
       "            <th>partial_blame</th>\n",
       "        </tr>\n",
       "    </thead>\n",
       "    <tbody>\n",
       "        <tr>\n",
       "            <td>35</td>\n",
       "            <td>5</td>\n",
       "            <td>5.6</td>\n",
       "            <td>7.0</td>\n",
       "        </tr>\n",
       "        <tr>\n",
       "            <td>33</td>\n",
       "            <td>5</td>\n",
       "            <td>5.0</td>\n",
       "            <td>5.0</td>\n",
       "        </tr>\n",
       "        <tr>\n",
       "            <td>13</td>\n",
       "            <td>4</td>\n",
       "            <td>4.5</td>\n",
       "            <td>5.0</td>\n",
       "        </tr>\n",
       "        <tr>\n",
       "            <td>12</td>\n",
       "            <td>4</td>\n",
       "            <td>4.2</td>\n",
       "            <td>5.0</td>\n",
       "        </tr>\n",
       "        <tr>\n",
       "            <td>6</td>\n",
       "            <td>4</td>\n",
       "            <td>4.090909090909091</td>\n",
       "            <td>5.0</td>\n",
       "        </tr>\n",
       "    </tbody>\n",
       "</table>"
      ],
      "text/plain": [
       "+---------+------------+-------------------+---------------+\n",
       "| test_id | full_blame |   uniform_blame   | partial_blame |\n",
       "+---------+------------+-------------------+---------------+\n",
       "|    35   |     5      |        5.6        |      7.0      |\n",
       "|    33   |     5      |        5.0        |      5.0      |\n",
       "|    13   |     4      |        4.5        |      5.0      |\n",
       "|    12   |     4      |        4.2        |      5.0      |\n",
       "|    6    |     4      | 4.090909090909091 |      5.0      |\n",
       "+---------+------------+-------------------+---------------+"
      ]
     },
     "execution_count": 19,
     "metadata": {},
     "output_type": "execute_result"
    }
   ],
   "source": [
    "%%sql \n",
    "SELECT test_id,\n",
    "    SUM(full_blame) AS full_blame,\n",
    "    SUM(uniform_blame) AS uniform_blame,\n",
    "    SUM(partial_blame) AS partial_blame\n",
    "FROM (   \n",
    "    SELECT test_id,\n",
    "        bad_interaction_id,\n",
    "        IF(COUNT() = ARBITRARY(test_result_count), 1, 0) full_blame,\n",
    "        SUM(1.0 / test_id_count / test_id_frequency[test_id]) AS uniform_blame,\n",
    "        1.0 AS partial_blame\n",
    "    FROM test_results_blamed_for_unreliable_code_review_iteration\n",
    "    JOIN unreliable_code_review_iterations USING(bad_interaction_id)\n",
    "    GROUP BY 1, 2\n",
    ")    \n",
    "GROUP BY 1\n",
    "ORDER BY 2 DESC\n",
    "LIMIT 5"
   ]
  },
  {
   "cell_type": "markdown",
   "id": "77ddbd20-2685-4880-b9ec-1ec36de868d5",
   "metadata": {
    "editable": true,
    "slideshow": {
     "slide_type": "subslide"
    },
    "tags": []
   },
   "source": [
    "# Blame Models: All Scores\n",
    "We can calculate scores for an arbitrary filtering and grouping scheme."
   ]
  },
  {
   "cell_type": "code",
   "execution_count": 20,
   "id": "d0f7d8ae-fdea-4c53-9f7b-b0f397da46ca",
   "metadata": {},
   "outputs": [],
   "source": [
    "bucket, predicate = \"framework\", \"test_id NOT IN (10)\""
   ]
  },
  {
   "cell_type": "code",
   "execution_count": 21,
   "id": "c8a7ebf9-4fda-4ec0-a281-7454a4956270",
   "metadata": {
    "editable": true,
    "slideshow": {
     "slide_type": ""
    },
    "tags": []
   },
   "outputs": [
    {
     "data": {
      "text/html": [
       "<span style=\"None\">Generating CTE with stored snippets: &#x27;test_results_blamed_for_unreliable_code_review_iteration&#x27;</span>"
      ],
      "text/plain": [
       "Generating CTE with stored snippets: 'test_results_blamed_for_unreliable_code_review_iteration'"
      ]
     },
     "metadata": {},
     "output_type": "display_data"
    },
    {
     "data": {
      "text/html": [
       "<span style=\"None\">Running query in &#x27;duckdb&#x27;</span>"
      ],
      "text/plain": [
       "Running query in 'duckdb'"
      ]
     },
     "metadata": {},
     "output_type": "display_data"
    },
    {
     "data": {
      "text/html": [
       "<table>\n",
       "    <thead>\n",
       "        <tr>\n",
       "            <th>framework</th>\n",
       "            <th>full_blame</th>\n",
       "            <th>uniform_blame</th>\n",
       "            <th>partial_blame</th>\n",
       "        </tr>\n",
       "    </thead>\n",
       "    <tbody>\n",
       "        <tr>\n",
       "            <td>Pytest</td>\n",
       "            <td>32</td>\n",
       "            <td>35.98430735930736</td>\n",
       "            <td>42.0</td>\n",
       "        </tr>\n",
       "        <tr>\n",
       "            <td>JUnit</td>\n",
       "            <td>30</td>\n",
       "            <td>34.90573593073593</td>\n",
       "            <td>43.0</td>\n",
       "        </tr>\n",
       "        <tr>\n",
       "            <td>Jest</td>\n",
       "            <td>27</td>\n",
       "            <td>31.109956709956712</td>\n",
       "            <td>38.0</td>\n",
       "        </tr>\n",
       "    </tbody>\n",
       "</table>"
      ],
      "text/plain": [
       "+-----------+------------+--------------------+---------------+\n",
       "| framework | full_blame |   uniform_blame    | partial_blame |\n",
       "+-----------+------------+--------------------+---------------+\n",
       "|   Pytest  |     32     | 35.98430735930736  |      42.0     |\n",
       "|   JUnit   |     30     | 34.90573593073593  |      43.0     |\n",
       "|    Jest   |     27     | 31.109956709956712 |      38.0     |\n",
       "+-----------+------------+--------------------+---------------+"
      ]
     },
     "execution_count": 21,
     "metadata": {},
     "output_type": "execute_result"
    }
   ],
   "source": [
    "%%sql \n",
    "SELECT {{bucket}},\n",
    "    SUM(full_blame) AS full_blame,\n",
    "    SUM(uniform_blame) as uniform_blame,\n",
    "    SUM(partial_blame) AS partial_blame\n",
    "FROM (   \n",
    "    SELECT {{bucket}},\n",
    "        bad_interaction_id,\n",
    "        IF(COUNT() = ARBITRARY(test_result_count), 1, 0) full_blame,\n",
    "        SUM(1.0 / test_id_count / test_id_frequency[test_id]) as uniform_blame,\n",
    "        1.0 AS partial_blame\n",
    "    FROM test_results_blamed_for_unreliable_code_review_iteration\n",
    "    JOIN unreliable_code_review_iterations USING(bad_interaction_id)\n",
    "    WHERE {{predicate}}\n",
    "    GROUP BY bad_interaction_id, {{bucket}}\n",
    ")    \n",
    "GROUP BY 1\n",
    "ORDER BY 2 DESC\n",
    "LIMIT 5"
   ]
  },
  {
   "cell_type": "markdown",
   "id": "d3752e35-7f99-4471-9b2e-88213fa5ead0",
   "metadata": {
    "editable": true,
    "slideshow": {
     "slide_type": "subslide"
    },
    "tags": []
   },
   "source": [
    "# Blame Models: Summary\n",
    "\n",
    "**Full Blame**\n",
    "- **Lower bound** - If you eliminate the problem the topline will move by at least X\n",
    "- **Sensitive** - even the lowest unnacounted participation in bad interaction counts\n",
    "\n",
    "**Uniform Blame**\n",
    "- **Fine grained** - the only sub-bad-interaction score\n",
    "- **Additive** - scores can be summed up and presented in an area chart\n",
    "\n",
    "**Partial Blame**\n",
    "  - **Upper bound** - If you eliminate the problem the topline will move by at most X\n",
    "  - **Sensitive** - even the lowest participation in bad interaction counts\n"
   ]
  },
  {
   "cell_type": "markdown",
   "id": "d3b2564b-4bb3-4cbe-abe4-3bfee48630d7",
   "metadata": {
    "editable": true,
    "slideshow": {
     "slide_type": "slide"
    },
    "tags": []
   },
   "source": [
    "# Experimentation\n",
    "\n",
    "**Use Code Review as experiment unit**. This unit is coarse grained enough to avoid interactions between test and control groups and fine grained enough to yield well powered experiments. Alternatives include User, Code Review Creator, Code Review Iteration.\n",
    "\n",
    "**Run experiments in increments of 7 days**. This will account for strong weekly seasonality in the development cycle.\n",
    "\n",
    "**Record exposure only for Code Reviews which can be affected by the feature**. This will reduce variance in measurements. You can do it by first checking if Code Review can be affected and then assigning it to test or control groups.\n",
    "\n",
    "**Record exposure for Code Reviews created after the start of the experiment**. Existing code reviews implicitly start in control groups. Exclude them from the experiment to avoid bad interactions between groups.\n",
    "    \n",
    "**Communicate impact using Daily impact in absolute terms.** Percentage can be misleading if exposures were limited. By communicating daily impact in absolute terms we can compare results of multiple experiments.\n"
   ]
  },
  {
   "cell_type": "markdown",
   "id": "b71b752d-bd8f-4b9d-9c81-26ff400c443f",
   "metadata": {
    "editable": true,
    "slideshow": {
     "slide_type": "slide"
    },
    "tags": []
   },
   "source": [
    "# Conclusion\n",
    "We rely on topline metrics throughout the development cycle.\n",
    "\n",
    "![](media/survey_cycle_3.png)"
   ]
  },
  {
   "cell_type": "markdown",
   "id": "985826cd-0959-4331-9475-25a0e63871f0",
   "metadata": {
    "editable": true,
    "slideshow": {
     "slide_type": "slide"
    },
    "tags": []
   },
   "source": [
    "# Thank You"
   ]
  }
 ],
 "metadata": {
  "kernelspec": {
   "display_name": "Python 3 (ipykernel)",
   "language": "python",
   "name": "python3"
  },
  "language_info": {
   "codemirror_mode": {
    "name": "ipython",
    "version": 3
   },
   "file_extension": ".py",
   "mimetype": "text/x-python",
   "name": "python",
   "nbconvert_exporter": "python",
   "pygments_lexer": "ipython3",
   "version": "3.10.9"
  },
  "rise": {
   "center": false,
   "theme": "simple"
  }
 },
 "nbformat": 4,
 "nbformat_minor": 5
}
